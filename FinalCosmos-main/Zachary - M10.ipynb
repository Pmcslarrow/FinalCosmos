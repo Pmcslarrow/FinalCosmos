{
 "cells": [
  {
   "cell_type": "code",
   "execution_count": 65,
   "metadata": {},
   "outputs": [],
   "source": [
    "import pandas as pd\n",
    "import matplotlib.pyplot as plt\n",
    "import numpy as np\n",
    "import math"
   ]
  },
  {
   "cell_type": "code",
   "execution_count": 66,
   "metadata": {},
   "outputs": [],
   "source": [
    "M10 = pd.read_csv(\"C:\\\\Users\\\\zzrrh\\\\OneDrive\\\\Documents\\\\DATA in the Cosmos\\\\Final Project\\\\1715036444823O-result.csv\")\n",
    "#read in other cluster\n",
    "M10.dropna(inplace=True)"
   ]
  },
  {
   "cell_type": "code",
   "execution_count": 67,
   "metadata": {},
   "outputs": [],
   "source": [
    "M10['br'] = M10.phot_bp_mean_mag - M10.phot_rp_mean_mag\n",
    "M10['parallax_arc'] = M10.parallax/1000\n",
    "M10['Dmpc'] = 1/(M10.parallax_arc)\n",
    "M10['abs_mg'] = M10.phot_g_mean_mag - (np.log10((M10.distance_gspphot)))\n",
    "#cluster2['b-r'] = cluster2.mb - cluster2.mr\n",
    "#cluster2['Dpc'] = 1/(cluster2.parallax)\n",
    "#cluster2['abs_mg'] = cluster2.mg - (math.log(5, 10) * (cluster2.Dpc/10))"
   ]
  },
  {
   "cell_type": "code",
   "execution_count": 68,
   "metadata": {},
   "outputs": [
    {
     "data": {
      "text/html": [
       "<div>\n",
       "<style scoped>\n",
       "    .dataframe tbody tr th:only-of-type {\n",
       "        vertical-align: middle;\n",
       "    }\n",
       "\n",
       "    .dataframe tbody tr th {\n",
       "        vertical-align: top;\n",
       "    }\n",
       "\n",
       "    .dataframe thead th {\n",
       "        text-align: right;\n",
       "    }\n",
       "</style>\n",
       "<table border=\"1\" class=\"dataframe\">\n",
       "  <thead>\n",
       "    <tr style=\"text-align: right;\">\n",
       "      <th></th>\n",
       "      <th>parallax</th>\n",
       "      <th>phot_g_mean_mag</th>\n",
       "      <th>phot_bp_mean_mag</th>\n",
       "      <th>phot_rp_mean_mag</th>\n",
       "      <th>distance_gspphot</th>\n",
       "      <th>br</th>\n",
       "      <th>parallax_arc</th>\n",
       "      <th>Dmpc</th>\n",
       "      <th>abs_mg</th>\n",
       "    </tr>\n",
       "  </thead>\n",
       "  <tbody>\n",
       "    <tr>\n",
       "      <th>5</th>\n",
       "      <td>0.394454</td>\n",
       "      <td>17.951801</td>\n",
       "      <td>18.800173</td>\n",
       "      <td>16.989065</td>\n",
       "      <td>736.1903</td>\n",
       "      <td>1.811108</td>\n",
       "      <td>0.000394</td>\n",
       "      <td>2535.148682</td>\n",
       "      <td>15.084811</td>\n",
       "    </tr>\n",
       "    <tr>\n",
       "      <th>7</th>\n",
       "      <td>0.201349</td>\n",
       "      <td>16.545988</td>\n",
       "      <td>17.944435</td>\n",
       "      <td>15.327579</td>\n",
       "      <td>1850.3124</td>\n",
       "      <td>2.616856</td>\n",
       "      <td>0.000201</td>\n",
       "      <td>4966.507005</td>\n",
       "      <td>13.278743</td>\n",
       "    </tr>\n",
       "    <tr>\n",
       "      <th>9</th>\n",
       "      <td>0.544012</td>\n",
       "      <td>17.638435</td>\n",
       "      <td>18.419280</td>\n",
       "      <td>16.818506</td>\n",
       "      <td>860.2122</td>\n",
       "      <td>1.600774</td>\n",
       "      <td>0.000544</td>\n",
       "      <td>1838.194248</td>\n",
       "      <td>14.703829</td>\n",
       "    </tr>\n",
       "    <tr>\n",
       "      <th>15</th>\n",
       "      <td>0.326045</td>\n",
       "      <td>18.037558</td>\n",
       "      <td>19.355505</td>\n",
       "      <td>16.953764</td>\n",
       "      <td>838.7635</td>\n",
       "      <td>2.401741</td>\n",
       "      <td>0.000326</td>\n",
       "      <td>3067.061129</td>\n",
       "      <td>15.113918</td>\n",
       "    </tr>\n",
       "    <tr>\n",
       "      <th>24</th>\n",
       "      <td>0.705953</td>\n",
       "      <td>17.263762</td>\n",
       "      <td>17.986965</td>\n",
       "      <td>16.235120</td>\n",
       "      <td>783.2521</td>\n",
       "      <td>1.751845</td>\n",
       "      <td>0.000706</td>\n",
       "      <td>1416.525321</td>\n",
       "      <td>14.369860</td>\n",
       "    </tr>\n",
       "    <tr>\n",
       "      <th>...</th>\n",
       "      <td>...</td>\n",
       "      <td>...</td>\n",
       "      <td>...</td>\n",
       "      <td>...</td>\n",
       "      <td>...</td>\n",
       "      <td>...</td>\n",
       "      <td>...</td>\n",
       "      <td>...</td>\n",
       "      <td>...</td>\n",
       "    </tr>\n",
       "    <tr>\n",
       "      <th>1990</th>\n",
       "      <td>0.536722</td>\n",
       "      <td>15.316878</td>\n",
       "      <td>15.892127</td>\n",
       "      <td>14.567986</td>\n",
       "      <td>1616.9456</td>\n",
       "      <td>1.324141</td>\n",
       "      <td>0.000537</td>\n",
       "      <td>1863.162047</td>\n",
       "      <td>12.108183</td>\n",
       "    </tr>\n",
       "    <tr>\n",
       "      <th>1991</th>\n",
       "      <td>0.547291</td>\n",
       "      <td>15.934660</td>\n",
       "      <td>16.613974</td>\n",
       "      <td>15.114568</td>\n",
       "      <td>1698.0060</td>\n",
       "      <td>1.499406</td>\n",
       "      <td>0.000547</td>\n",
       "      <td>1827.181918</td>\n",
       "      <td>12.704721</td>\n",
       "    </tr>\n",
       "    <tr>\n",
       "      <th>1992</th>\n",
       "      <td>0.523468</td>\n",
       "      <td>17.853868</td>\n",
       "      <td>18.624190</td>\n",
       "      <td>16.909035</td>\n",
       "      <td>649.1531</td>\n",
       "      <td>1.715155</td>\n",
       "      <td>0.000523</td>\n",
       "      <td>1910.336027</td>\n",
       "      <td>15.041521</td>\n",
       "    </tr>\n",
       "    <tr>\n",
       "      <th>1998</th>\n",
       "      <td>0.572623</td>\n",
       "      <td>18.030142</td>\n",
       "      <td>18.920488</td>\n",
       "      <td>17.081560</td>\n",
       "      <td>726.3716</td>\n",
       "      <td>1.838928</td>\n",
       "      <td>0.000573</td>\n",
       "      <td>1746.349357</td>\n",
       "      <td>15.168983</td>\n",
       "    </tr>\n",
       "    <tr>\n",
       "      <th>1999</th>\n",
       "      <td>0.814904</td>\n",
       "      <td>16.383993</td>\n",
       "      <td>16.929460</td>\n",
       "      <td>15.704559</td>\n",
       "      <td>978.9996</td>\n",
       "      <td>1.224901</td>\n",
       "      <td>0.000815</td>\n",
       "      <td>1227.138471</td>\n",
       "      <td>13.393210</td>\n",
       "    </tr>\n",
       "  </tbody>\n",
       "</table>\n",
       "<p>431 rows × 9 columns</p>\n",
       "</div>"
      ],
      "text/plain": [
       "      parallax  phot_g_mean_mag  phot_bp_mean_mag  phot_rp_mean_mag  \\\n",
       "5     0.394454        17.951801         18.800173         16.989065   \n",
       "7     0.201349        16.545988         17.944435         15.327579   \n",
       "9     0.544012        17.638435         18.419280         16.818506   \n",
       "15    0.326045        18.037558         19.355505         16.953764   \n",
       "24    0.705953        17.263762         17.986965         16.235120   \n",
       "...        ...              ...               ...               ...   \n",
       "1990  0.536722        15.316878         15.892127         14.567986   \n",
       "1991  0.547291        15.934660         16.613974         15.114568   \n",
       "1992  0.523468        17.853868         18.624190         16.909035   \n",
       "1998  0.572623        18.030142         18.920488         17.081560   \n",
       "1999  0.814904        16.383993         16.929460         15.704559   \n",
       "\n",
       "      distance_gspphot        br  parallax_arc         Dmpc     abs_mg  \n",
       "5             736.1903  1.811108      0.000394  2535.148682  15.084811  \n",
       "7            1850.3124  2.616856      0.000201  4966.507005  13.278743  \n",
       "9             860.2122  1.600774      0.000544  1838.194248  14.703829  \n",
       "15            838.7635  2.401741      0.000326  3067.061129  15.113918  \n",
       "24            783.2521  1.751845      0.000706  1416.525321  14.369860  \n",
       "...                ...       ...           ...          ...        ...  \n",
       "1990         1616.9456  1.324141      0.000537  1863.162047  12.108183  \n",
       "1991         1698.0060  1.499406      0.000547  1827.181918  12.704721  \n",
       "1992          649.1531  1.715155      0.000523  1910.336027  15.041521  \n",
       "1998          726.3716  1.838928      0.000573  1746.349357  15.168983  \n",
       "1999          978.9996  1.224901      0.000815  1227.138471  13.393210  \n",
       "\n",
       "[431 rows x 9 columns]"
      ]
     },
     "execution_count": 68,
     "metadata": {},
     "output_type": "execute_result"
    }
   ],
   "source": [
    "M10"
   ]
  },
  {
   "cell_type": "code",
   "execution_count": 69,
   "metadata": {},
   "outputs": [
    {
     "data": {
      "text/plain": [
       "Text(0.5, 0, 'Distance (pc)')"
      ]
     },
     "execution_count": 69,
     "metadata": {},
     "output_type": "execute_result"
    },
    {
     "data": {
      "image/png": "[encoded data removed]",
      "text/plain": [
       "<Figure size 640x480 with 1 Axes>"
      ]
     },
     "metadata": {},
     "output_type": "display_data"
    }
   ],
   "source": [
    "plt.hist(M10.Dmpc)\n",
    "plt.xlabel('Distance (pc)')"
   ]
  },
  {
   "cell_type": "code",
   "execution_count": 70,
   "metadata": {},
   "outputs": [],
   "source": [
    "#Plot other Dataset"
   ]
  },
  {
   "cell_type": "code",
   "execution_count": 71,
   "metadata": {},
   "outputs": [
    {
     "data": {
      "text/plain": [
       "(431, 9)"
      ]
     },
     "execution_count": 71,
     "metadata": {},
     "output_type": "execute_result"
    }
   ],
   "source": [
    "#filtered_M10 = M10.loc[(M10['Dmpc'] > 0.5) & (M10['Dmpc'] < 1.25)]\n",
    "#Filter other dataset\n",
    "#print(filtered_M10)\n",
    "M10.shape"
   ]
  },
  {
   "cell_type": "code",
   "execution_count": 83,
   "metadata": {},
   "outputs": [
    {
     "data": {
      "text/plain": [
       "Text(0.5, 1.0, 'Hertzsprung Russell Diagram')"
      ]
     },
     "execution_count": 83,
     "metadata": {},
     "output_type": "execute_result"
    },
    {
     "data": {
      "image/png": "[encoded data removed]",
      "text/plain": [
       "<Figure size 640x480 with 1 Axes>"
      ]
     },
     "metadata": {},
     "output_type": "display_data"
    }
   ],
   "source": [
    "plt.scatter(M10['br'], M10.abs_mg, s=5, label = 'M10', color=\"blue\")\n",
    "#plt.plot(filtered_cluster2['b-r'], filtered_cluster2.abs_mg, '.', label = 'Cluster 2') OTHER CLUSTER\n",
    "plt.gca().invert_yaxis()\n",
    "plt.ylabel('Absolute Magnitude')\n",
    "plt.xlabel('Difference between B and R magnitudes')\n",
    "plt.legend()\n",
    "plt.title(\"Hertzsprung Russell Diagram\")"
   ]
  },
  {
   "cell_type": "code",
   "execution_count": null,
   "metadata": {},
   "outputs": [],
   "source": []
  }
 ],
 "metadata": {
  "kernelspec": {
   "display_name": "Python 3",
   "language": "python",
   "name": "python3"
  },
  "language_info": {
   "codemirror_mode": {
    "name": "ipython",
    "version": 3
   },
   "file_extension": ".py",
   "mimetype": "text/x-python",
   "name": "python",
   "nbconvert_exporter": "python",
   "pygments_lexer": "ipython3",
   "version": "3.12.3"
  }
 },
 "nbformat": 4,
 "nbformat_minor": 2
}
